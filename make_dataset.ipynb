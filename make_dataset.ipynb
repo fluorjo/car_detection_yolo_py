{
 "cells": [
  {
   "cell_type": "code",
   "execution_count": null,
   "metadata": {},
   "outputs": [],
   "source": []
  },
  {
   "attachments": {},
   "cell_type": "markdown",
   "metadata": {},
   "source": [
    "원본 데이터 폴더\n",
    "\n",
    "무슨 작업 할 건지.\n",
    "(작업들은 개별 파일 만들기)\n",
    "\n",
    "작업한 거 저장.\n",
    "\n",
    "원본 데이터랑 합쳐서 경로 적어놓은 텍스트 문서 생성."
   ]
  }
 ],
 "metadata": {
  "language_info": {
   "name": "python"
  },
  "orig_nbformat": 4
 },
 "nbformat": 4,
 "nbformat_minor": 2
}
