{
 "cells": [
  {
   "cell_type": "code",
   "execution_count": 1,
   "metadata": {},
   "outputs": [
    {
     "name": "stdout",
     "output_type": "stream",
     "text": [
      "3359\n"
     ]
    }
   ],
   "source": [
    "import os\n",
    "\n",
    "a=os.listdir('./labels')\n",
    "print(len(a))"
   ]
  },
  {
   "cell_type": "code",
   "execution_count": 3,
   "metadata": {},
   "outputs": [
    {
     "name": "stdout",
     "output_type": "stream",
     "text": [
      "3400\n"
     ]
    }
   ],
   "source": [
    "b=os.listdir('C:/Users/fluor/OneDrive/바탕 화면/open/test')\n",
    "print(len(b))"
   ]
  },
  {
   "cell_type": "code",
   "execution_count": 13,
   "metadata": {},
   "outputs": [
    {
     "name": "stderr",
     "output_type": "stream",
     "text": [
      "100%|██████████| 3359/3359 [00:00<00:00, 3348863.12it/s]\n"
     ]
    }
   ],
   "source": [
    "from tqdm import tqdm\n",
    "\n",
    "for i in tqdm(range(len(a))):\n",
    "    c=a[i].replace('.txt','.png')\n",
    "    a[i]=c"
   ]
  },
  {
   "cell_type": "code",
   "execution_count": 19,
   "metadata": {},
   "outputs": [
    {
     "name": "stderr",
     "output_type": "stream",
     "text": [
      "100%|██████████| 3400/3400 [00:00<00:00, 78139.60it/s]\n"
     ]
    }
   ],
   "source": [
    "d=[]\n",
    "for i in tqdm(b):\n",
    "    if i not in a :\n",
    "        d.append(i)\n"
   ]
  },
  {
   "cell_type": "code",
   "execution_count": 21,
   "metadata": {},
   "outputs": [
    {
     "name": "stdout",
     "output_type": "stream",
     "text": [
      "['080450170.png', '081246742.png', '083417263.png', '090648584.png', '091134101.png', '091617174.png', '093332951.png', '100607658.png', '100726359.png', '101515330.png', '102447497.png', '103732553.png', '105851340.png', '114420070.png', '115632025.png', '115908994.png', '130029365.png', '130452623.png', '132035621.png', '133908976.png', '134356306.png', '140003340.png', '140548523.png', '140855093.png', '142256578.png', '142437849.png', '142736669.png', '143113383.png', '144045472.png', '144316693.png', '144627133.png', '145308701.png', '145446673.png', '150244279.png', '150810679.png', '150917377.png', '151530783.png', '152725961.png', '161855284.png', '162502127.png', '171127911.png']\n"
     ]
    }
   ],
   "source": [
    "print(d)"
   ]
  },
  {
   "cell_type": "code",
   "execution_count": 22,
   "metadata": {},
   "outputs": [],
   "source": [
    "e=[]\n",
    "for i in d:\n",
    "    e.append('/content/drive/MyDrive/aialone_car_gray_equal/test/'+i)\n"
   ]
  },
  {
   "cell_type": "code",
   "execution_count": 24,
   "metadata": {},
   "outputs": [
    {
     "name": "stdout",
     "output_type": "stream",
     "text": [
      "['/content/drive/MyDrive/aialone_car_gray_equal/test/080450170.png', '/content/drive/MyDrive/aialone_car_gray_equal/test/081246742.png', '/content/drive/MyDrive/aialone_car_gray_equal/test/083417263.png', '/content/drive/MyDrive/aialone_car_gray_equal/test/090648584.png', '/content/drive/MyDrive/aialone_car_gray_equal/test/091134101.png', '/content/drive/MyDrive/aialone_car_gray_equal/test/091617174.png', '/content/drive/MyDrive/aialone_car_gray_equal/test/093332951.png', '/content/drive/MyDrive/aialone_car_gray_equal/test/100607658.png', '/content/drive/MyDrive/aialone_car_gray_equal/test/100726359.png', '/content/drive/MyDrive/aialone_car_gray_equal/test/101515330.png', '/content/drive/MyDrive/aialone_car_gray_equal/test/102447497.png', '/content/drive/MyDrive/aialone_car_gray_equal/test/103732553.png', '/content/drive/MyDrive/aialone_car_gray_equal/test/105851340.png', '/content/drive/MyDrive/aialone_car_gray_equal/test/114420070.png', '/content/drive/MyDrive/aialone_car_gray_equal/test/115632025.png', '/content/drive/MyDrive/aialone_car_gray_equal/test/115908994.png', '/content/drive/MyDrive/aialone_car_gray_equal/test/130029365.png', '/content/drive/MyDrive/aialone_car_gray_equal/test/130452623.png', '/content/drive/MyDrive/aialone_car_gray_equal/test/132035621.png', '/content/drive/MyDrive/aialone_car_gray_equal/test/133908976.png', '/content/drive/MyDrive/aialone_car_gray_equal/test/134356306.png', '/content/drive/MyDrive/aialone_car_gray_equal/test/140003340.png', '/content/drive/MyDrive/aialone_car_gray_equal/test/140548523.png', '/content/drive/MyDrive/aialone_car_gray_equal/test/140855093.png', '/content/drive/MyDrive/aialone_car_gray_equal/test/142256578.png', '/content/drive/MyDrive/aialone_car_gray_equal/test/142437849.png', '/content/drive/MyDrive/aialone_car_gray_equal/test/142736669.png', '/content/drive/MyDrive/aialone_car_gray_equal/test/143113383.png', '/content/drive/MyDrive/aialone_car_gray_equal/test/144045472.png', '/content/drive/MyDrive/aialone_car_gray_equal/test/144316693.png', '/content/drive/MyDrive/aialone_car_gray_equal/test/144627133.png', '/content/drive/MyDrive/aialone_car_gray_equal/test/145308701.png', '/content/drive/MyDrive/aialone_car_gray_equal/test/145446673.png', '/content/drive/MyDrive/aialone_car_gray_equal/test/150244279.png', '/content/drive/MyDrive/aialone_car_gray_equal/test/150810679.png', '/content/drive/MyDrive/aialone_car_gray_equal/test/150917377.png', '/content/drive/MyDrive/aialone_car_gray_equal/test/151530783.png', '/content/drive/MyDrive/aialone_car_gray_equal/test/152725961.png', '/content/drive/MyDrive/aialone_car_gray_equal/test/161855284.png', '/content/drive/MyDrive/aialone_car_gray_equal/test/162502127.png', '/content/drive/MyDrive/aialone_car_gray_equal/test/171127911.png']\n"
     ]
    }
   ],
   "source": [
    "print(e)"
   ]
  }
 ],
 "metadata": {
  "kernelspec": {
   "display_name": "Python 3",
   "language": "python",
   "name": "python3"
  },
  "language_info": {
   "codemirror_mode": {
    "name": "ipython",
    "version": 3
   },
   "file_extension": ".py",
   "mimetype": "text/x-python",
   "name": "python",
   "nbconvert_exporter": "python",
   "pygments_lexer": "ipython3",
   "version": "3.11.0"
  },
  "orig_nbformat": 4
 },
 "nbformat": 4,
 "nbformat_minor": 2
}
