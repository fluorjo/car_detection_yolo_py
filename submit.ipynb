{
 "cells": [
  {
   "cell_type": "code",
   "execution_count": 1,
   "metadata": {
    "collapsed": true,
    "pycharm": {
     "name": "#%%\n"
    }
   },
   "outputs": [],
   "source": [
    "import pandas as pd\n",
    "\n",
    "from tqdm import tqdm\n",
    "from glob import glob"
   ]
  },
  {
   "cell_type": "code",
   "execution_count": 2,
   "metadata": {
    "collapsed": false,
    "pycharm": {
     "name": "#%%\n"
    }
   },
   "outputs": [
    {
     "data": {
      "text/plain": [
       "Index(['file_name', 'class_id', 'confidence', 'point1_x', 'point1_y',\n",
       "       'point2_x', 'point2_y', 'point3_x', 'point3_y', 'point4_x', 'point4_y'],\n",
       "      dtype='object')"
      ]
     },
     "execution_count": 2,
     "metadata": {},
     "output_type": "execute_result"
    }
   ],
   "source": [
    "submit = pd.read_csv('./sample_submission.csv', header=0)\n",
    "submit.columns"
   ]
  },
  {
   "cell_type": "code",
   "execution_count": 3,
   "metadata": {
    "collapsed": false,
    "pycharm": {
     "name": "#%%\n"
    }
   },
   "outputs": [
    {
     "name": "stderr",
     "output_type": "stream",
     "text": [
      "100%|██████████| 3359/3359 [00:03<00:00, 854.05it/s]\n"
     ]
    }
   ],
   "source": [
    "width = 1920\n",
    "height = 1080\n",
    "\n",
    "# bbox -> 상대좌표계, width, height -> 이미지 해상도\n",
    "def convert_yolo_to_cv2(width, height, bbox):\n",
    "    x, y, w, h = bbox\n",
    "    xmin = int((x - w / 2) * width)\n",
    "    xmax = int((x + w / 2) * width)\n",
    "    ymin = int((y - h / 2) * height)\n",
    "    ymax = int((y + h / 2) * height)\n",
    "    return xmin, ymin, xmax, ymax\n",
    "\n",
    "for txt_file in tqdm(glob('./labels/*.txt')):\n",
    "    # window환경에서 진행하는 경우 split('\\\\')로 변경 필요\n",
    "    file_name= txt_file.split('/')[-1].replace('.txt','.png')\n",
    "    with open(txt_file) as f:\n",
    "        for ann in f:\n",
    "            # text결과값의 경우 cls, x, y, w, h, conf 순으로 작업\n",
    "            cls, x,y,w,h,conf = [float(temp) for temp in ann.split()]\n",
    "            xmin, ymin, xmax, ymax = convert_yolo_to_cv2(width, height,[x,y,w,h])\n",
    "            if conf <0.5:\n",
    "                continue\n",
    "            # file_name, class, confidence, left, top, right, top, right, bottom, left, bottm\n",
    "            submit.loc[len(submit)] = [file_name, int(cls), conf, xmin, ymin, xmax, ymin, xmax, ymax, xmin, ymax]\n"
   ]
  },
  {
   "cell_type": "code",
   "execution_count": 5,
   "metadata": {
    "collapsed": false,
    "pycharm": {
     "name": "#%%\n"
    }
   },
   "outputs": [
    {
     "data": {
      "text/html": [
       "<div>\n",
       "<style scoped>\n",
       "    .dataframe tbody tr th:only-of-type {\n",
       "        vertical-align: middle;\n",
       "    }\n",
       "\n",
       "    .dataframe tbody tr th {\n",
       "        vertical-align: top;\n",
       "    }\n",
       "\n",
       "    .dataframe thead th {\n",
       "        text-align: right;\n",
       "    }\n",
       "</style>\n",
       "<table border=\"1\" class=\"dataframe\">\n",
       "  <thead>\n",
       "    <tr style=\"text-align: right;\">\n",
       "      <th></th>\n",
       "      <th>file_name</th>\n",
       "      <th>class_id</th>\n",
       "      <th>confidence</th>\n",
       "      <th>point1_x</th>\n",
       "      <th>point1_y</th>\n",
       "      <th>point2_x</th>\n",
       "      <th>point2_y</th>\n",
       "      <th>point3_x</th>\n",
       "      <th>point3_y</th>\n",
       "      <th>point4_x</th>\n",
       "      <th>point4_y</th>\n",
       "    </tr>\n",
       "  </thead>\n",
       "  <tbody>\n",
       "    <tr>\n",
       "      <th>0</th>\n",
       "      <td>labels\\064442001.png</td>\n",
       "      <td>16</td>\n",
       "      <td>0.954003</td>\n",
       "      <td>1139</td>\n",
       "      <td>180</td>\n",
       "      <td>1431</td>\n",
       "      <td>180</td>\n",
       "      <td>1431</td>\n",
       "      <td>494</td>\n",
       "      <td>1139</td>\n",
       "      <td>494</td>\n",
       "    </tr>\n",
       "    <tr>\n",
       "      <th>1</th>\n",
       "      <td>labels\\064507368.png</td>\n",
       "      <td>16</td>\n",
       "      <td>0.977024</td>\n",
       "      <td>491</td>\n",
       "      <td>124</td>\n",
       "      <td>757</td>\n",
       "      <td>124</td>\n",
       "      <td>757</td>\n",
       "      <td>427</td>\n",
       "      <td>491</td>\n",
       "      <td>427</td>\n",
       "    </tr>\n",
       "    <tr>\n",
       "      <th>2</th>\n",
       "      <td>labels\\065131036.png</td>\n",
       "      <td>17</td>\n",
       "      <td>0.957297</td>\n",
       "      <td>1108</td>\n",
       "      <td>56</td>\n",
       "      <td>1357</td>\n",
       "      <td>56</td>\n",
       "      <td>1357</td>\n",
       "      <td>317</td>\n",
       "      <td>1108</td>\n",
       "      <td>317</td>\n",
       "    </tr>\n",
       "    <tr>\n",
       "      <th>3</th>\n",
       "      <td>labels\\065203472.png</td>\n",
       "      <td>1</td>\n",
       "      <td>0.714224</td>\n",
       "      <td>541</td>\n",
       "      <td>762</td>\n",
       "      <td>828</td>\n",
       "      <td>762</td>\n",
       "      <td>828</td>\n",
       "      <td>1039</td>\n",
       "      <td>541</td>\n",
       "      <td>1039</td>\n",
       "    </tr>\n",
       "    <tr>\n",
       "      <th>4</th>\n",
       "      <td>labels\\065223169.png</td>\n",
       "      <td>16</td>\n",
       "      <td>0.974005</td>\n",
       "      <td>736</td>\n",
       "      <td>160</td>\n",
       "      <td>1015</td>\n",
       "      <td>160</td>\n",
       "      <td>1015</td>\n",
       "      <td>456</td>\n",
       "      <td>736</td>\n",
       "      <td>456</td>\n",
       "    </tr>\n",
       "    <tr>\n",
       "      <th>...</th>\n",
       "      <td>...</td>\n",
       "      <td>...</td>\n",
       "      <td>...</td>\n",
       "      <td>...</td>\n",
       "      <td>...</td>\n",
       "      <td>...</td>\n",
       "      <td>...</td>\n",
       "      <td>...</td>\n",
       "      <td>...</td>\n",
       "      <td>...</td>\n",
       "      <td>...</td>\n",
       "    </tr>\n",
       "    <tr>\n",
       "      <th>4103</th>\n",
       "      <td>labels\\183911746.png</td>\n",
       "      <td>27</td>\n",
       "      <td>0.947210</td>\n",
       "      <td>753</td>\n",
       "      <td>281</td>\n",
       "      <td>1004</td>\n",
       "      <td>281</td>\n",
       "      <td>1004</td>\n",
       "      <td>567</td>\n",
       "      <td>753</td>\n",
       "      <td>567</td>\n",
       "    </tr>\n",
       "    <tr>\n",
       "      <th>4104</th>\n",
       "      <td>labels\\183911746.png</td>\n",
       "      <td>15</td>\n",
       "      <td>0.885302</td>\n",
       "      <td>511</td>\n",
       "      <td>799</td>\n",
       "      <td>826</td>\n",
       "      <td>799</td>\n",
       "      <td>826</td>\n",
       "      <td>1079</td>\n",
       "      <td>511</td>\n",
       "      <td>1079</td>\n",
       "    </tr>\n",
       "    <tr>\n",
       "      <th>4105</th>\n",
       "      <td>labels\\183928410.png</td>\n",
       "      <td>27</td>\n",
       "      <td>0.968523</td>\n",
       "      <td>684</td>\n",
       "      <td>49</td>\n",
       "      <td>917</td>\n",
       "      <td>49</td>\n",
       "      <td>917</td>\n",
       "      <td>305</td>\n",
       "      <td>684</td>\n",
       "      <td>305</td>\n",
       "    </tr>\n",
       "    <tr>\n",
       "      <th>4106</th>\n",
       "      <td>labels\\183928410.png</td>\n",
       "      <td>27</td>\n",
       "      <td>0.599420</td>\n",
       "      <td>1109</td>\n",
       "      <td>75</td>\n",
       "      <td>1353</td>\n",
       "      <td>75</td>\n",
       "      <td>1353</td>\n",
       "      <td>324</td>\n",
       "      <td>1109</td>\n",
       "      <td>324</td>\n",
       "    </tr>\n",
       "    <tr>\n",
       "      <th>4107</th>\n",
       "      <td>labels\\184121675.png</td>\n",
       "      <td>27</td>\n",
       "      <td>0.953538</td>\n",
       "      <td>879</td>\n",
       "      <td>550</td>\n",
       "      <td>1149</td>\n",
       "      <td>550</td>\n",
       "      <td>1149</td>\n",
       "      <td>870</td>\n",
       "      <td>879</td>\n",
       "      <td>870</td>\n",
       "    </tr>\n",
       "  </tbody>\n",
       "</table>\n",
       "<p>4108 rows × 11 columns</p>\n",
       "</div>"
      ],
      "text/plain": [
       "                 file_name  class_id  confidence  point1_x  point1_y   \n",
       "0     labels\\064442001.png        16    0.954003      1139       180  \\\n",
       "1     labels\\064507368.png        16    0.977024       491       124   \n",
       "2     labels\\065131036.png        17    0.957297      1108        56   \n",
       "3     labels\\065203472.png         1    0.714224       541       762   \n",
       "4     labels\\065223169.png        16    0.974005       736       160   \n",
       "...                    ...       ...         ...       ...       ...   \n",
       "4103  labels\\183911746.png        27    0.947210       753       281   \n",
       "4104  labels\\183911746.png        15    0.885302       511       799   \n",
       "4105  labels\\183928410.png        27    0.968523       684        49   \n",
       "4106  labels\\183928410.png        27    0.599420      1109        75   \n",
       "4107  labels\\184121675.png        27    0.953538       879       550   \n",
       "\n",
       "      point2_x  point2_y  point3_x  point3_y  point4_x  point4_y  \n",
       "0         1431       180      1431       494      1139       494  \n",
       "1          757       124       757       427       491       427  \n",
       "2         1357        56      1357       317      1108       317  \n",
       "3          828       762       828      1039       541      1039  \n",
       "4         1015       160      1015       456       736       456  \n",
       "...        ...       ...       ...       ...       ...       ...  \n",
       "4103      1004       281      1004       567       753       567  \n",
       "4104       826       799       826      1079       511      1079  \n",
       "4105       917        49       917       305       684       305  \n",
       "4106      1353        75      1353       324      1109       324  \n",
       "4107      1149       550      1149       870       879       870  \n",
       "\n",
       "[4108 rows x 11 columns]"
      ]
     },
     "execution_count": 5,
     "metadata": {},
     "output_type": "execute_result"
    }
   ],
   "source": [
    "submit"
   ]
  },
  {
   "cell_type": "code",
   "execution_count": 13,
   "metadata": {
    "collapsed": false,
    "pycharm": {
     "name": "#%%\n"
    }
   },
   "outputs": [],
   "source": [
    "submit.to_csv('submit2.csv', index=False, encoding='utf-8')"
   ]
  }
 ],
 "metadata": {
  "kernelspec": {
   "display_name": "Python 3",
   "language": "python",
   "name": "python3"
  },
  "language_info": {
   "codemirror_mode": {
    "name": "ipython",
    "version": 3
   },
   "file_extension": ".py",
   "mimetype": "text/x-python",
   "name": "python",
   "nbconvert_exporter": "python",
   "pygments_lexer": "ipython3",
   "version": "3.11.0"
  }
 },
 "nbformat": 4,
 "nbformat_minor": 0
}
