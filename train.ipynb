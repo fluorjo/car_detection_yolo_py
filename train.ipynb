{
 "cells": [
  {
   "attachments": {},
   "cell_type": "markdown",
   "metadata": {},
   "source": [
    "install"
   ]
  },
  {
   "cell_type": "code",
   "execution_count": null,
   "metadata": {},
   "outputs": [],
   "source": [
    "%pip install import_ipynb\n",
    "%pip install PyYAML"
   ]
  },
  {
   "cell_type": "code",
   "execution_count": null,
   "metadata": {},
   "outputs": [],
   "source": [
    "%run install_yolov8.ipynb"
   ]
  },
  {
   "attachments": {},
   "cell_type": "markdown",
   "metadata": {},
   "source": [
    "import"
   ]
  },
  {
   "cell_type": "code",
   "execution_count": 9,
   "metadata": {},
   "outputs": [],
   "source": [
    "import import_ipynb\n",
    "import yaml\n",
    "from make_yaml import make_yaml_file\n",
    "import ultralytics\n",
    "from ultralytics import YOLO"
   ]
  },
  {
   "attachments": {},
   "cell_type": "markdown",
   "metadata": {},
   "source": [
    "make yaml file"
   ]
  },
  {
   "cell_type": "code",
   "execution_count": 6,
   "metadata": {},
   "outputs": [],
   "source": [
    "fileNclass_data={\n",
    "    'train':'train_path',\n",
    "    'val':'val_path',\n",
    "    'test':'test_path',\n",
    "    'names':['class a','class b'],\n",
    "    'nc':0 #number of class\n",
    "    }\n",
    "fileNclass_data_name='dataset'"
   ]
  },
  {
   "cell_type": "code",
   "execution_count": 7,
   "metadata": {},
   "outputs": [
    {
     "data": {
      "text/plain": [
       "{'names': ['class a', 'class b'],\n",
       " 'nc': 0,\n",
       " 'test': 'test_path',\n",
       " 'train': 'train_path',\n",
       " 'val': 'val_path'}"
      ]
     },
     "execution_count": 7,
     "metadata": {},
     "output_type": "execute_result"
    }
   ],
   "source": [
    "make_yaml_file(fileNclass_data,fileNclass_data_name)"
   ]
  },
  {
   "attachments": {},
   "cell_type": "markdown",
   "metadata": {},
   "source": [
    "train"
   ]
  },
  {
   "cell_type": "code",
   "execution_count": 10,
   "metadata": {},
   "outputs": [
    {
     "name": "stderr",
     "output_type": "stream",
     "text": [
      "Downloading https:\\github.com\\ultralytics\\assets\\releases\\download\\v0.0.0\\yolov8m.pt to yolov8m.pt...\n",
      "100%|██████████| 49.7M/49.7M [00:05<00:00, 9.72MB/s]\n"
     ]
    }
   ],
   "source": [
    "model=YOLO('yolov8m.pt')\n",
    "\"\"\"\n",
    "trained_model_path+'best.pt'\n",
    "\"\"\"\n",
    "\n",
    "\"\"\"\n",
    "yolov8n.pt\n",
    "yolov8s.pt\n",
    "yolov8m.pt\n",
    "yolov8l.pt\n",
    "yolov8x.pt\n",
    "\"\"\"\n"
   ]
  },
  {
   "cell_type": "code",
   "execution_count": null,
   "metadata": {},
   "outputs": [],
   "source": [
    "#train parameters\n",
    "DATA=fileNclass_data_name+'.yaml'\n",
    "PROJECT=fileNclass_data_name\n",
    "EPOCHS=10\n",
    "BATCH_SIZE=32\n",
    "SEED=100"
   ]
  },
  {
   "cell_type": "code",
   "execution_count": null,
   "metadata": {},
   "outputs": [],
   "source": [
    "model.train(\n",
    "    data=DATA,\n",
    "    project=PROJECT,\n",
    "    epochs=EPOCHS, \n",
    "    batch=BATCH_SIZE,\n",
    "    seed=SEED,\n",
    "    \n",
    "    imgsz=640,\n",
    "    patience=30,\n",
    "    device=0,\n",
    "    exist_ok=True,    \n",
    "    name=\"train\",\n",
    "    pretrained=False,\n",
    "    resume=True,\n",
    "    optimizer=\"Adam\",\n",
    "    lr0=1e-3,\n",
    "    augment=True,\n",
    "    val=True,\n",
    "    cache=True\n",
    "    ) "
   ]
  },
  {
   "attachments": {},
   "cell_type": "markdown",
   "metadata": {},
   "source": [
    "predict"
   ]
  },
  {
   "cell_type": "code",
   "execution_count": null,
   "metadata": {},
   "outputs": [],
   "source": [
    "predict_source_path=''"
   ]
  },
  {
   "cell_type": "code",
   "execution_count": null,
   "metadata": {},
   "outputs": [],
   "source": [
    "results=model.predict(\n",
    "    source=predict_source_path,#source directory for images or videos\n",
    "    save=False,#save images with results\n",
    "    save_txt=True,#save results as .txt file\n",
    "    save_conf=True,#save results with confidence scores\n",
    "    \n",
    "    conf=0.25,#object confidence threshold for detection\n",
    "    iou=0.7,#intersection over union (IoU) threshold for NMS\n",
    "    half=False,#use half precision (FP16)\n",
    "    device=None,#device to run on, i.e. cuda device\n",
    "    show=False,#show results if possible\n",
    "    save_crop=False,#save cropped images with results\n",
    "    hide_labels=False,#hide labels\n",
    "    hide_conf=False,#hide confidence scores\n",
    "    max_det=300,#maximum number of detections per image\n",
    "    vid_stride=False,#video frame-rate stride\n",
    "    line_width=None,#The line width of the bounding boxes. If None, it is scaled to the image size.\n",
    "    visualize=False,#visualize model features\n",
    "    augment=False,#apply image augmentation to prediction sources\n",
    "    agnostic_nms=False,#class-agnostic NMS\n",
    "    retina_masks=False,#use high-resolution segmentation masks\n",
    "    classes=None,#filter results by class, i.e. class\n",
    "    boxes=True,#Show boxes in segmentation predictions\n",
    "    )"
   ]
  }
 ],
 "metadata": {
  "kernelspec": {
   "display_name": "Python 3",
   "language": "python",
   "name": "python3"
  },
  "language_info": {
   "codemirror_mode": {
    "name": "ipython",
    "version": 3
   },
   "file_extension": ".py",
   "mimetype": "text/x-python",
   "name": "python",
   "nbconvert_exporter": "python",
   "pygments_lexer": "ipython3",
   "version": "3.11.0"
  },
  "orig_nbformat": 4
 },
 "nbformat": 4,
 "nbformat_minor": 2
}
