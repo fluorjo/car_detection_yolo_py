{
 "cells": [
  {
   "attachments": {},
   "cell_type": "markdown",
   "metadata": {},
   "source": [
    "install"
   ]
  },
  {
   "cell_type": "code",
   "execution_count": null,
   "metadata": {},
   "outputs": [],
   "source": [
    "%pip install import_ipynb\n",
    "%pip install PyYAML"
   ]
  },
  {
   "cell_type": "code",
   "execution_count": null,
   "metadata": {},
   "outputs": [],
   "source": [
    "%run install_yolov8.ipynb"
   ]
  },
  {
   "attachments": {},
   "cell_type": "markdown",
   "metadata": {},
   "source": [
    "import"
   ]
  },
  {
   "cell_type": "code",
   "execution_count": 9,
   "metadata": {},
   "outputs": [],
   "source": [
    "import import_ipynb\n",
    "import yaml\n",
    "from make_yaml import make_yaml_file\n",
    "import ultralytics\n",
    "from ultralytics import YOLO"
   ]
  },
  {
   "attachments": {},
   "cell_type": "markdown",
   "metadata": {},
   "source": [
    "make yaml file"
   ]
  },
  {
   "cell_type": "code",
   "execution_count": 6,
   "metadata": {},
   "outputs": [],
   "source": [
    "fileNclass_data={\n",
    "    'train':'train_path',\n",
    "    'val':'val_path',\n",
    "    'test':'test_path',\n",
    "    'names':['class a','class b'],\n",
    "    'nc':0 #number of class\n",
    "    }\n",
    "fileNclass_data_name='dataset'"
   ]
  },
  {
   "cell_type": "code",
   "execution_count": 7,
   "metadata": {},
   "outputs": [
    {
     "data": {
      "text/plain": [
       "{'names': ['class a', 'class b'],\n",
       " 'nc': 0,\n",
       " 'test': 'test_path',\n",
       " 'train': 'train_path',\n",
       " 'val': 'val_path'}"
      ]
     },
     "execution_count": 7,
     "metadata": {},
     "output_type": "execute_result"
    }
   ],
   "source": [
    "make_yaml_file(fileNclass_data,fileNclass_data_name)"
   ]
  },
  {
   "attachments": {},
   "cell_type": "markdown",
   "metadata": {},
   "source": [
    "train"
   ]
  },
  {
   "cell_type": "code",
   "execution_count": 10,
   "metadata": {},
   "outputs": [
    {
     "name": "stderr",
     "output_type": "stream",
     "text": [
      "Downloading https:\\github.com\\ultralytics\\assets\\releases\\download\\v0.0.0\\yolov8m.pt to yolov8m.pt...\n",
      "100%|██████████| 49.7M/49.7M [00:05<00:00, 9.72MB/s]\n"
     ]
    }
   ],
   "source": [
    "model=YOLO('yolov8m.pt')\n",
    "\"\"\"\n",
    "yolov8n.pt\n",
    "yolov8s.pt\n",
    "yolov8m.pt\n",
    "yolov8l.pt\n",
    "yolov8x.pt\n",
    "\"\"\"\n"
   ]
  },
  {
   "cell_type": "code",
   "execution_count": null,
   "metadata": {},
   "outputs": [],
   "source": [
    "model.train(\n",
    "    data=fileNclass_data_name+'.yaml', \n",
    "    epochs=10, \n",
    "    patience=30,\n",
    "    batch=32,\n",
    "    imgsz=640,\n",
    "    \n",
    "    ) "
   ]
  }
 ],
 "metadata": {
  "kernelspec": {
   "display_name": "Python 3",
   "language": "python",
   "name": "python3"
  },
  "language_info": {
   "codemirror_mode": {
    "name": "ipython",
    "version": 3
   },
   "file_extension": ".py",
   "mimetype": "text/x-python",
   "name": "python",
   "nbconvert_exporter": "python",
   "pygments_lexer": "ipython3",
   "version": "3.11.0"
  },
  "orig_nbformat": 4
 },
 "nbformat": 4,
 "nbformat_minor": 2
}
